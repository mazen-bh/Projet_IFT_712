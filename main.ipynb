{
 "cells": [
  {
   "cell_type": "code",
   "execution_count": 1,
   "id": "119e5e54",
   "metadata": {},
   "outputs": [],
   "source": [
    "import numpy as np\n",
    "import pandas as pd\n",
    "import sklearn as sk\n",
    "import matplotlib.pyplot as plt\n",
    "from scripts.gestion_donnees.pretraitement import Pretraitement\n",
    "from scripts.evaluation.evaluation_model import Evaluation\n",
    "#import sys\n",
    "#sys.path.insert(1,'C:\\\\Users\\\\mazen\\\\OneDrive\\\\Bureau\\\\Projet_IFT712\\\\src\\\\scripts\\\\evaluation')\n",
    "#import evaluation_model\n",
    "#evaluation_model.Evaluation.matrice_confusion()\n"
   ]
  },
  {
   "cell_type": "markdown",
   "id": "21c4d5b6",
   "metadata": {},
   "source": [
    "## Partie 1 :  Prétraitement et analyse des données"
   ]
  },
  {
   "cell_type": "code",
   "execution_count": 2,
   "id": "33d20c3f",
   "metadata": {},
   "outputs": [],
   "source": [
    "# creation des instances\n",
    "Ev = Evaluation\n",
    "Pt = Pretraitement(\"./data/train.csv\")"
   ]
  },
  {
   "cell_type": "code",
   "execution_count": 3,
   "id": "a4d3518a",
   "metadata": {},
   "outputs": [],
   "source": [
    "# charger donneés entrainement\n",
    "df_train_init = Pt.Charger_donnees()\n",
    "# encoder donneés\n",
    "etiquette,classes = Pt.Encoder_donnees(df_train_init,\"species\")\n",
    "df_train_init = df_train_init.drop(['id','species'], axis=1)\n",
    "# supprimer les valeurs aberrantes\n",
    "outliers = Pt.Indice_outliers(df_train_init,3.0)\n",
    "df_train = df_train_init.drop(outliers)\n",
    "etiquette = [etiquette[i] for i in range(len(etiquette)) if i not in outliers]\n",
    "# diviser les donnees\n",
    "x_train, x_test, y_train, y_test, x_val, y_val = Pt.Diviser_donnees(df_train,etiquette)\n"
   ]
  },
  {
   "cell_type": "markdown",
   "id": "b5340b76",
   "metadata": {},
   "source": [
    "## Partie 2 : Modélisation et évaluation des données"
   ]
  }
 ],
 "metadata": {
  "interpreter": {
   "hash": "7844ab251c890c13447ef8a23dace4ed4683050b8969df92e7d5b07381656688"
  },
  "kernelspec": {
   "display_name": "Python 3.9.4 64-bit",
   "language": "python",
   "name": "python3"
  },
  "language_info": {
   "codemirror_mode": {
    "name": "ipython",
    "version": 3
   },
   "file_extension": ".py",
   "mimetype": "text/x-python",
   "name": "python",
   "nbconvert_exporter": "python",
   "pygments_lexer": "ipython3",
   "version": "3.9.4"
  }
 },
 "nbformat": 4,
 "nbformat_minor": 5
}
